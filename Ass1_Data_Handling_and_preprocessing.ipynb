{
  "nbformat": 4,
  "nbformat_minor": 0,
  "metadata": {
    "colab": {
      "provenance": [],
      "authorship_tag": "ABX9TyMpjZQ+Sh7mHtgVdS5VoPVh",
      "include_colab_link": true
    },
    "kernelspec": {
      "name": "python3",
      "display_name": "Python 3"
    },
    "language_info": {
      "name": "python"
    }
  },
  "cells": [
    {
      "cell_type": "markdown",
      "metadata": {
        "id": "view-in-github",
        "colab_type": "text"
      },
      "source": [
        "<a href=\"https://colab.research.google.com/github/UtkarshaZade/DMW/blob/main/Ass1_Data_Handling_and_preprocessing.ipynb\" target=\"_parent\"><img src=\"https://colab.research.google.com/assets/colab-badge.svg\" alt=\"Open In Colab\"/></a>"
      ]
    },
    {
      "cell_type": "code",
      "execution_count": null,
      "metadata": {
        "colab": {
          "base_uri": "https://localhost:8080/"
        },
        "id": "7PZV_6ffW3ZW",
        "outputId": "f54bbf31-b30d-4630-b056-dcf22470a50f"
      },
      "outputs": [
        {
          "output_type": "stream",
          "name": "stdout",
          "text": [
            "hello\n"
          ]
        }
      ],
      "source": [
        "print('hello')"
      ]
    },
    {
      "cell_type": "markdown",
      "source": [
        "Data preprocessing assignent of dmw"
      ],
      "metadata": {
        "id": "U6_OERgBW-jD"
      }
    },
    {
      "cell_type": "code",
      "source": [
        "import pandas as pd\n",
        "import numpy as np\n",
        "from sklearn.preprocessing import StandardScaler, MinMaxScaler"
      ],
      "metadata": {
        "id": "5BTHtFheZVXy"
      },
      "execution_count": null,
      "outputs": []
    },
    {
      "cell_type": "code",
      "source": [
        "list = { 'Name' : ['Ram', 'Ayush', 'Vijay','Arya', 'Arav', 'Ayush'],\n",
        "        'Fruit' : ['Apple', 'Banana13', 'Grapes', None, 'Pineapple', 'Banana13'],\n",
        "         'Salary' : [20000, 60000, None, 120000, 10000, 60000],\n",
        "         'Age' : [18, 40, 29, None , 90, 40]\n",
        "}\n",
        "\n",
        "data = pd.DataFrame(list)\n",
        "print(data)"
      ],
      "metadata": {
        "colab": {
          "base_uri": "https://localhost:8080/"
        },
        "id": "hGGCwSDJXIa6",
        "outputId": "2044af9d-8f8b-4d50-e3be-ba4afb2c7d2f"
      },
      "execution_count": null,
      "outputs": [
        {
          "output_type": "stream",
          "name": "stdout",
          "text": [
            "    Name      Fruit    Salary   Age\n",
            "0    Ram      Apple   20000.0  18.0\n",
            "1  Ayush   Banana13   60000.0  40.0\n",
            "2  Vijay     Grapes       NaN  29.0\n",
            "3   Arya       None  120000.0   NaN\n",
            "4   Arav  Pineapple   10000.0  90.0\n",
            "5  Ayush   Banana13   60000.0  40.0\n"
          ]
        }
      ]
    },
    {
      "cell_type": "code",
      "source": [
        "data.duplicated()\n",
        "data.drop_duplicates(inplace=True)\n",
        "print(data)"
      ],
      "metadata": {
        "colab": {
          "base_uri": "https://localhost:8080/"
        },
        "id": "lB0shmYnaisZ",
        "outputId": "279e325d-bf25-454c-d704-39c3e6cf171f"
      },
      "execution_count": null,
      "outputs": [
        {
          "output_type": "stream",
          "name": "stdout",
          "text": [
            "    Name      Fruit    Salary   Age\n",
            "0    Ram      Apple   20000.0  18.0\n",
            "1  Ayush   Banana13   60000.0  40.0\n",
            "2  Vijay     Grapes       NaN  29.0\n",
            "3   Arya       None  120000.0   NaN\n",
            "4   Arav  Pineapple   10000.0  90.0\n"
          ]
        }
      ]
    },
    {
      "cell_type": "markdown",
      "source": [
        "Are there any null values and if yess then remove them"
      ],
      "metadata": {
        "id": "ZIdPuQHXZvSx"
      }
    },
    {
      "cell_type": "code",
      "source": [
        "data.dtypes"
      ],
      "metadata": {
        "colab": {
          "base_uri": "https://localhost:8080/",
          "height": 210
        },
        "id": "BTNaSkMiaDop",
        "outputId": "211a126e-30da-448b-ff0c-e65552874ac0"
      },
      "execution_count": null,
      "outputs": [
        {
          "output_type": "execute_result",
          "data": {
            "text/plain": [
              "Name       object\n",
              "Fruit      object\n",
              "Salary    float64\n",
              "Age       float64\n",
              "dtype: object"
            ],
            "text/html": [
              "<div>\n",
              "<style scoped>\n",
              "    .dataframe tbody tr th:only-of-type {\n",
              "        vertical-align: middle;\n",
              "    }\n",
              "\n",
              "    .dataframe tbody tr th {\n",
              "        vertical-align: top;\n",
              "    }\n",
              "\n",
              "    .dataframe thead th {\n",
              "        text-align: right;\n",
              "    }\n",
              "</style>\n",
              "<table border=\"1\" class=\"dataframe\">\n",
              "  <thead>\n",
              "    <tr style=\"text-align: right;\">\n",
              "      <th></th>\n",
              "      <th>0</th>\n",
              "    </tr>\n",
              "  </thead>\n",
              "  <tbody>\n",
              "    <tr>\n",
              "      <th>Name</th>\n",
              "      <td>object</td>\n",
              "    </tr>\n",
              "    <tr>\n",
              "      <th>Fruit</th>\n",
              "      <td>object</td>\n",
              "    </tr>\n",
              "    <tr>\n",
              "      <th>Salary</th>\n",
              "      <td>float64</td>\n",
              "    </tr>\n",
              "    <tr>\n",
              "      <th>Age</th>\n",
              "      <td>float64</td>\n",
              "    </tr>\n",
              "  </tbody>\n",
              "</table>\n",
              "</div><br><label><b>dtype:</b> object</label>"
            ]
          },
          "metadata": {},
          "execution_count": 5
        }
      ]
    },
    {
      "cell_type": "code",
      "source": [
        "data.isnull()\n",
        "data.isnull().sum()"
      ],
      "metadata": {
        "colab": {
          "base_uri": "https://localhost:8080/",
          "height": 210
        },
        "id": "lQPlA0btZrs5",
        "outputId": "45d644a6-43b8-49dc-b738-788dc4157f7e"
      },
      "execution_count": null,
      "outputs": [
        {
          "output_type": "execute_result",
          "data": {
            "text/plain": [
              "Name      0\n",
              "Fruit     1\n",
              "Salary    1\n",
              "Age       1\n",
              "dtype: int64"
            ],
            "text/html": [
              "<div>\n",
              "<style scoped>\n",
              "    .dataframe tbody tr th:only-of-type {\n",
              "        vertical-align: middle;\n",
              "    }\n",
              "\n",
              "    .dataframe tbody tr th {\n",
              "        vertical-align: top;\n",
              "    }\n",
              "\n",
              "    .dataframe thead th {\n",
              "        text-align: right;\n",
              "    }\n",
              "</style>\n",
              "<table border=\"1\" class=\"dataframe\">\n",
              "  <thead>\n",
              "    <tr style=\"text-align: right;\">\n",
              "      <th></th>\n",
              "      <th>0</th>\n",
              "    </tr>\n",
              "  </thead>\n",
              "  <tbody>\n",
              "    <tr>\n",
              "      <th>Name</th>\n",
              "      <td>0</td>\n",
              "    </tr>\n",
              "    <tr>\n",
              "      <th>Fruit</th>\n",
              "      <td>1</td>\n",
              "    </tr>\n",
              "    <tr>\n",
              "      <th>Salary</th>\n",
              "      <td>1</td>\n",
              "    </tr>\n",
              "    <tr>\n",
              "      <th>Age</th>\n",
              "      <td>1</td>\n",
              "    </tr>\n",
              "  </tbody>\n",
              "</table>\n",
              "</div><br><label><b>dtype:</b> int64</label>"
            ]
          },
          "metadata": {},
          "execution_count": 6
        }
      ]
    },
    {
      "cell_type": "code",
      "source": [
        "# for col age\n",
        "data['Age'].fillna(data['Age'].mean(), inplace=True)\n",
        "# for col salary\n",
        "data['Salary'].replace(np.nan, 0, inplace=True)\n",
        "print(data)"
      ],
      "metadata": {
        "colab": {
          "base_uri": "https://localhost:8080/"
        },
        "id": "ir2B8yL4aVsB",
        "outputId": "1f8d3021-55c2-4b50-a7a5-a9fc1324b826"
      },
      "execution_count": null,
      "outputs": [
        {
          "output_type": "stream",
          "name": "stdout",
          "text": [
            "    Name      Fruit    Salary    Age\n",
            "0    Ram      Apple   20000.0  18.00\n",
            "1  Ayush   Banana13   60000.0  40.00\n",
            "2  Vijay     Grapes       0.0  29.00\n",
            "3   Arya       None  120000.0  44.25\n",
            "4   Arav  Pineapple   10000.0  90.00\n"
          ]
        },
        {
          "output_type": "stream",
          "name": "stderr",
          "text": [
            "/tmp/ipython-input-7-3056475514.py:2: FutureWarning: A value is trying to be set on a copy of a DataFrame or Series through chained assignment using an inplace method.\n",
            "The behavior will change in pandas 3.0. This inplace method will never work because the intermediate object on which we are setting values always behaves as a copy.\n",
            "\n",
            "For example, when doing 'df[col].method(value, inplace=True)', try using 'df.method({col: value}, inplace=True)' or df[col] = df[col].method(value) instead, to perform the operation inplace on the original object.\n",
            "\n",
            "\n",
            "  data['Age'].fillna(data['Age'].mean(), inplace=True)\n",
            "/tmp/ipython-input-7-3056475514.py:4: FutureWarning: A value is trying to be set on a copy of a DataFrame or Series through chained assignment using an inplace method.\n",
            "The behavior will change in pandas 3.0. This inplace method will never work because the intermediate object on which we are setting values always behaves as a copy.\n",
            "\n",
            "For example, when doing 'df[col].method(value, inplace=True)', try using 'df.method({col: value}, inplace=True)' or df[col] = df[col].method(value) instead, to perform the operation inplace on the original object.\n",
            "\n",
            "\n",
            "  data['Salary'].replace(np.nan, 0, inplace=True)\n"
          ]
        }
      ]
    },
    {
      "cell_type": "code",
      "source": [
        "data['Age'] = data['Age'].astype(int)"
      ],
      "metadata": {
        "id": "btJt13UmdEnB"
      },
      "execution_count": null,
      "outputs": []
    },
    {
      "cell_type": "code",
      "source": [
        "print(data)"
      ],
      "metadata": {
        "colab": {
          "base_uri": "https://localhost:8080/"
        },
        "id": "Jsu83g9kfgHf",
        "outputId": "054f1d18-5ad0-4fb8-debc-9d2fc549c035"
      },
      "execution_count": null,
      "outputs": [
        {
          "output_type": "stream",
          "name": "stdout",
          "text": [
            "    Name      Fruit    Salary  Age\n",
            "0    Ram      Apple   20000.0   18\n",
            "1  Ayush   Banana13   60000.0   40\n",
            "2  Vijay     Grapes       0.0   29\n",
            "3   Arya       None  120000.0   44\n",
            "4   Arav  Pineapple   10000.0   90\n"
          ]
        }
      ]
    },
    {
      "cell_type": "code",
      "source": [
        "data['Fruit'].fillna(data['Fruit'].mode(), inplace=True)\n",
        "print(data)"
      ],
      "metadata": {
        "colab": {
          "base_uri": "https://localhost:8080/"
        },
        "id": "EgTtykoVfjMP",
        "outputId": "06f4d427-fc7e-45f8-9f66-03c2a817e653"
      },
      "execution_count": null,
      "outputs": [
        {
          "output_type": "stream",
          "name": "stdout",
          "text": [
            "    Name      Fruit    Salary  Age\n",
            "0    Ram      Apple   20000.0   18\n",
            "1  Ayush   Banana13   60000.0   40\n",
            "2  Vijay     Grapes       0.0   29\n",
            "3   Arya  Pineapple  120000.0   44\n",
            "4   Arav  Pineapple   10000.0   90\n"
          ]
        },
        {
          "output_type": "stream",
          "name": "stderr",
          "text": [
            "/tmp/ipython-input-10-3515289231.py:1: FutureWarning: A value is trying to be set on a copy of a DataFrame or Series through chained assignment using an inplace method.\n",
            "The behavior will change in pandas 3.0. This inplace method will never work because the intermediate object on which we are setting values always behaves as a copy.\n",
            "\n",
            "For example, when doing 'df[col].method(value, inplace=True)', try using 'df.method({col: value}, inplace=True)' or df[col] = df[col].method(value) instead, to perform the operation inplace on the original object.\n",
            "\n",
            "\n",
            "  data['Fruit'].fillna(data['Fruit'].mode(), inplace=True)\n"
          ]
        }
      ]
    },
    {
      "cell_type": "code",
      "source": [
        "data.isnull().sum()"
      ],
      "metadata": {
        "colab": {
          "base_uri": "https://localhost:8080/",
          "height": 210
        },
        "id": "n3kRqnUChj0w",
        "outputId": "038c64df-62c6-4f3d-dac6-6f9a6cb1d190"
      },
      "execution_count": null,
      "outputs": [
        {
          "output_type": "execute_result",
          "data": {
            "text/plain": [
              "Name      0\n",
              "Fruit     0\n",
              "Salary    0\n",
              "Age       0\n",
              "dtype: int64"
            ],
            "text/html": [
              "<div>\n",
              "<style scoped>\n",
              "    .dataframe tbody tr th:only-of-type {\n",
              "        vertical-align: middle;\n",
              "    }\n",
              "\n",
              "    .dataframe tbody tr th {\n",
              "        vertical-align: top;\n",
              "    }\n",
              "\n",
              "    .dataframe thead th {\n",
              "        text-align: right;\n",
              "    }\n",
              "</style>\n",
              "<table border=\"1\" class=\"dataframe\">\n",
              "  <thead>\n",
              "    <tr style=\"text-align: right;\">\n",
              "      <th></th>\n",
              "      <th>0</th>\n",
              "    </tr>\n",
              "  </thead>\n",
              "  <tbody>\n",
              "    <tr>\n",
              "      <th>Name</th>\n",
              "      <td>0</td>\n",
              "    </tr>\n",
              "    <tr>\n",
              "      <th>Fruit</th>\n",
              "      <td>0</td>\n",
              "    </tr>\n",
              "    <tr>\n",
              "      <th>Salary</th>\n",
              "      <td>0</td>\n",
              "    </tr>\n",
              "    <tr>\n",
              "      <th>Age</th>\n",
              "      <td>0</td>\n",
              "    </tr>\n",
              "  </tbody>\n",
              "</table>\n",
              "</div><br><label><b>dtype:</b> int64</label>"
            ]
          },
          "metadata": {},
          "execution_count": 11
        }
      ]
    },
    {
      "cell_type": "markdown",
      "source": [
        "Normalize"
      ],
      "metadata": {
        "id": "HCHr9y-Sis_3"
      }
    },
    {
      "cell_type": "code",
      "source": [
        "scaler = MinMaxScaler()\n",
        "data['Salary'] = scaler.fit_transform(data[['Salary']])\n",
        "print(data)"
      ],
      "metadata": {
        "id": "t_oejEjqhmze",
        "colab": {
          "base_uri": "https://localhost:8080/"
        },
        "outputId": "08fc6c69-05c0-4bf2-8625-1ddafc2215ac"
      },
      "execution_count": null,
      "outputs": [
        {
          "output_type": "stream",
          "name": "stdout",
          "text": [
            "    Name      Fruit    Salary  Age\n",
            "0    Ram      Apple  0.166667   18\n",
            "1  Ayush   Banana13  0.500000   40\n",
            "2  Vijay     Grapes  0.000000   29\n",
            "3   Arya  Pineapple  1.000000   44\n",
            "4   Arav  Pineapple  0.083333   90\n"
          ]
        }
      ]
    },
    {
      "cell_type": "code",
      "source": [
        "data['Age'] = scaler.fit_transform(data[['Age']])\n",
        "print(data)"
      ],
      "metadata": {
        "colab": {
          "base_uri": "https://localhost:8080/"
        },
        "id": "W48RYEVW_OHa",
        "outputId": "5e6c40a4-bc48-4645-d7c4-d0ccac69190d"
      },
      "execution_count": null,
      "outputs": [
        {
          "output_type": "stream",
          "name": "stdout",
          "text": [
            "    Name      Fruit    Salary       Age\n",
            "0    Ram      Apple  0.166667  0.000000\n",
            "1  Ayush   Banana13  0.500000  0.305556\n",
            "2  Vijay     Grapes  0.000000  0.152778\n",
            "3   Arya  Pineapple  1.000000  0.361111\n",
            "4   Arav  Pineapple  0.083333  1.000000\n"
          ]
        }
      ]
    },
    {
      "cell_type": "code",
      "source": [],
      "metadata": {
        "id": "Rzy2Ld1n_uqi"
      },
      "execution_count": null,
      "outputs": []
    }
  ]
}